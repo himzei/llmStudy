{
 "cells": [
  {
   "cell_type": "code",
   "execution_count": 10,
   "metadata": {},
   "outputs": [
    {
     "data": {
      "text/plain": [
       "'현재까지 알려진 행성은 8개입니다. 수성, 금성, 지구, 화성, 목성, 토성, 천왕성, 혹은 왜왕성까지 포함할 수 있습니다. 하지만 신규 탐사나 연구로 더 많은 행성이 발견될 수도 있습니다.'"
      ]
     },
     "execution_count": 10,
     "metadata": {},
     "output_type": "execute_result"
    }
   ],
   "source": [
    "from langchain.chat_models import ChatOpenAI\n",
    "\n",
    "chat = ChatOpenAI() \n",
    "\n",
    "b = chat.predict(\"우주에 행성이 몇 개인가?\")\n",
    "\n",
    "b"
   ]
  },
  {
   "cell_type": "code",
   "execution_count": null,
   "metadata": {},
   "outputs": [],
   "source": [
    "from langchain.schema import HumanMessage, AIMessage, SystemMessage \n",
    "\n",
    "messages = [\n",
    "    SystemMessage(content=\"당신은 전문 지리학자이다. 오직 한국어로만 대화를 한다\"), \n",
    "    AIMessage(content=\"안녕, 현일아\"),\n",
    "    HumanMessage(content=\"멕시코와 태국사이의 거리는 얼마나 되니? 그리고 당신의 이름은 무엇이니?\")\n",
    "]\n",
    "\n",
    "chat.predict_messages(messages)"
   ]
  }
 ],
 "metadata": {
  "kernelspec": {
   "display_name": "env",
   "language": "python",
   "name": "python3"
  },
  "language_info": {
   "codemirror_mode": {
    "name": "ipython",
    "version": 3
   },
   "file_extension": ".py",
   "mimetype": "text/x-python",
   "name": "python",
   "nbconvert_exporter": "python",
   "pygments_lexer": "ipython3",
   "version": "3.11.7"
  }
 },
 "nbformat": 4,
 "nbformat_minor": 2
}
